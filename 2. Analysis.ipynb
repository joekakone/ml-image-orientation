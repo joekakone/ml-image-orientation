{
 "cells": [
  {
   "cell_type": "markdown",
   "metadata": {},
   "source": [
    "# Importation de Pandas"
   ]
  },
  {
   "cell_type": "code",
   "execution_count": 1,
   "metadata": {},
   "outputs": [],
   "source": [
    "import pandas as pd"
   ]
  },
  {
   "cell_type": "markdown",
   "metadata": {},
   "source": [
    "# Lecture des données"
   ]
  },
  {
   "cell_type": "code",
   "execution_count": 12,
   "metadata": {},
   "outputs": [
    {
     "data": {
      "text/html": [
       "<div>\n",
       "<style scoped>\n",
       "    .dataframe tbody tr th:only-of-type {\n",
       "        vertical-align: middle;\n",
       "    }\n",
       "\n",
       "    .dataframe tbody tr th {\n",
       "        vertical-align: top;\n",
       "    }\n",
       "\n",
       "    .dataframe thead th {\n",
       "        text-align: right;\n",
       "    }\n",
       "</style>\n",
       "<table border=\"1\" class=\"dataframe\">\n",
       "  <thead>\n",
       "    <tr style=\"text-align: right;\">\n",
       "      <th></th>\n",
       "      <th>FILENAME</th>\n",
       "      <th>CLASS</th>\n",
       "      <th>WIDTH</th>\n",
       "      <th>HEIGHT</th>\n",
       "      <th>MODE</th>\n",
       "      <th>EXTENSION</th>\n",
       "      <th>PATH</th>\n",
       "    </tr>\n",
       "    <tr>\n",
       "      <th>ID</th>\n",
       "      <th></th>\n",
       "      <th></th>\n",
       "      <th></th>\n",
       "      <th></th>\n",
       "      <th></th>\n",
       "      <th></th>\n",
       "      <th></th>\n",
       "    </tr>\n",
       "  </thead>\n",
       "  <tbody>\n",
       "    <tr>\n",
       "      <th>1</th>\n",
       "      <td>38.booba-disque-diamant</td>\n",
       "      <td>booba</td>\n",
       "      <td>1000</td>\n",
       "      <td>600</td>\n",
       "      <td>RGBA</td>\n",
       "      <td>png</td>\n",
       "      <td>People/booba/38.booba-disque-diamant.png</td>\n",
       "    </tr>\n",
       "    <tr>\n",
       "      <th>2</th>\n",
       "      <td>8.benintimes-france-mort-de-jacques-chirac-boo...</td>\n",
       "      <td>booba</td>\n",
       "      <td>1189</td>\n",
       "      <td>669</td>\n",
       "      <td>RGB</td>\n",
       "      <td>jpg</td>\n",
       "      <td>People/booba/8.benintimes-france-mort-de-jacqu...</td>\n",
       "    </tr>\n",
       "    <tr>\n",
       "      <th>3</th>\n",
       "      <td>5.801x410_d01v6q8xgaa7lqq</td>\n",
       "      <td>booba</td>\n",
       "      <td>801</td>\n",
       "      <td>410</td>\n",
       "      <td>RGB</td>\n",
       "      <td>jpg</td>\n",
       "      <td>People/booba/5.801x410_d01v6q8xgaa7lqq.jpg</td>\n",
       "    </tr>\n",
       "    <tr>\n",
       "      <th>4</th>\n",
       "      <td>54.12549_1533216436_booba-kaaris-crop_970x606p</td>\n",
       "      <td>booba</td>\n",
       "      <td>970</td>\n",
       "      <td>606</td>\n",
       "      <td>RGB</td>\n",
       "      <td>jpg</td>\n",
       "      <td>People/booba/54.12549_1533216436_booba-kaaris-...</td>\n",
       "    </tr>\n",
       "    <tr>\n",
       "      <th>5</th>\n",
       "      <td>16.Booba-menace-la-fille-de-Kaaris-sur-Instagr...</td>\n",
       "      <td>booba</td>\n",
       "      <td>1000</td>\n",
       "      <td>450</td>\n",
       "      <td>RGB</td>\n",
       "      <td>jpg</td>\n",
       "      <td>People/booba/16.Booba-menace-la-fille-de-Kaari...</td>\n",
       "    </tr>\n",
       "  </tbody>\n",
       "</table>\n",
       "</div>"
      ],
      "text/plain": [
       "                                             FILENAME  CLASS  WIDTH  HEIGHT  \\\n",
       "ID                                                                            \n",
       "1                             38.booba-disque-diamant  booba   1000     600   \n",
       "2   8.benintimes-france-mort-de-jacques-chirac-boo...  booba   1189     669   \n",
       "3                           5.801x410_d01v6q8xgaa7lqq  booba    801     410   \n",
       "4      54.12549_1533216436_booba-kaaris-crop_970x606p  booba    970     606   \n",
       "5   16.Booba-menace-la-fille-de-Kaaris-sur-Instagr...  booba   1000     450   \n",
       "\n",
       "    MODE EXTENSION                                               PATH  \n",
       "ID                                                                     \n",
       "1   RGBA       png           People/booba/38.booba-disque-diamant.png  \n",
       "2    RGB       jpg  People/booba/8.benintimes-france-mort-de-jacqu...  \n",
       "3    RGB       jpg         People/booba/5.801x410_d01v6q8xgaa7lqq.jpg  \n",
       "4    RGB       jpg  People/booba/54.12549_1533216436_booba-kaaris-...  \n",
       "5    RGB       jpg  People/booba/16.Booba-menace-la-fille-de-Kaari...  "
      ]
     },
     "execution_count": 12,
     "metadata": {},
     "output_type": "execute_result"
    }
   ],
   "source": [
    "data = pd.read_csv(\"images-metadata.csv\", index_col=\"ID\")\n",
    "data.head()"
   ]
  },
  {
   "cell_type": "markdown",
   "metadata": {},
   "source": [
    "# Méta données"
   ]
  },
  {
   "cell_type": "code",
   "execution_count": 13,
   "metadata": {},
   "outputs": [
    {
     "data": {
      "text/plain": [
       "(736, 7)"
      ]
     },
     "execution_count": 13,
     "metadata": {},
     "output_type": "execute_result"
    }
   ],
   "source": [
    "data.shape"
   ]
  },
  {
   "cell_type": "markdown",
   "metadata": {},
   "source": [
    "Le tableau contient `736` lignes et `7` colonnes."
   ]
  },
  {
   "cell_type": "code",
   "execution_count": 4,
   "metadata": {},
   "outputs": [
    {
     "name": "stdout",
     "output_type": "stream",
     "text": [
      "<class 'pandas.core.frame.DataFrame'>\n",
      "RangeIndex: 736 entries, 0 to 735\n",
      "Data columns (total 8 columns):\n",
      " #   Column     Non-Null Count  Dtype \n",
      "---  ------     --------------  ----- \n",
      " 0   ID         736 non-null    int64 \n",
      " 1   FILENAME   736 non-null    object\n",
      " 2   CLASS      736 non-null    object\n",
      " 3   WIDTH      736 non-null    int64 \n",
      " 4   HEIGHT     736 non-null    int64 \n",
      " 5   MODE       736 non-null    object\n",
      " 6   EXTENSION  736 non-null    object\n",
      " 7   PATH       736 non-null    object\n",
      "dtypes: int64(3), object(5)\n",
      "memory usage: 46.1+ KB\n"
     ]
    }
   ],
   "source": [
    "data.info()"
   ]
  },
  {
   "cell_type": "markdown",
   "metadata": {},
   "source": [
    "# Exploration"
   ]
  },
  {
   "cell_type": "code",
   "execution_count": 5,
   "metadata": {},
   "outputs": [
    {
     "data": {
      "text/html": [
       "<div>\n",
       "<style scoped>\n",
       "    .dataframe tbody tr th:only-of-type {\n",
       "        vertical-align: middle;\n",
       "    }\n",
       "\n",
       "    .dataframe tbody tr th {\n",
       "        vertical-align: top;\n",
       "    }\n",
       "\n",
       "    .dataframe thead th {\n",
       "        text-align: right;\n",
       "    }\n",
       "</style>\n",
       "<table border=\"1\" class=\"dataframe\">\n",
       "  <thead>\n",
       "    <tr style=\"text-align: right;\">\n",
       "      <th></th>\n",
       "      <th>ID</th>\n",
       "      <th>WIDTH</th>\n",
       "      <th>HEIGHT</th>\n",
       "    </tr>\n",
       "  </thead>\n",
       "  <tbody>\n",
       "    <tr>\n",
       "      <th>count</th>\n",
       "      <td>736.000000</td>\n",
       "      <td>736.000000</td>\n",
       "      <td>736.000000</td>\n",
       "    </tr>\n",
       "    <tr>\n",
       "      <th>mean</th>\n",
       "      <td>368.500000</td>\n",
       "      <td>948.610054</td>\n",
       "      <td>694.947011</td>\n",
       "    </tr>\n",
       "    <tr>\n",
       "      <th>std</th>\n",
       "      <td>212.609188</td>\n",
       "      <td>685.701211</td>\n",
       "      <td>657.687134</td>\n",
       "    </tr>\n",
       "    <tr>\n",
       "      <th>min</th>\n",
       "      <td>1.000000</td>\n",
       "      <td>150.000000</td>\n",
       "      <td>134.000000</td>\n",
       "    </tr>\n",
       "    <tr>\n",
       "      <th>25%</th>\n",
       "      <td>184.750000</td>\n",
       "      <td>593.500000</td>\n",
       "      <td>385.000000</td>\n",
       "    </tr>\n",
       "    <tr>\n",
       "      <th>50%</th>\n",
       "      <td>368.500000</td>\n",
       "      <td>800.000000</td>\n",
       "      <td>539.000000</td>\n",
       "    </tr>\n",
       "    <tr>\n",
       "      <th>75%</th>\n",
       "      <td>552.250000</td>\n",
       "      <td>1067.250000</td>\n",
       "      <td>720.000000</td>\n",
       "    </tr>\n",
       "    <tr>\n",
       "      <th>max</th>\n",
       "      <td>736.000000</td>\n",
       "      <td>5760.000000</td>\n",
       "      <td>5688.000000</td>\n",
       "    </tr>\n",
       "  </tbody>\n",
       "</table>\n",
       "</div>"
      ],
      "text/plain": [
       "               ID        WIDTH       HEIGHT\n",
       "count  736.000000   736.000000   736.000000\n",
       "mean   368.500000   948.610054   694.947011\n",
       "std    212.609188   685.701211   657.687134\n",
       "min      1.000000   150.000000   134.000000\n",
       "25%    184.750000   593.500000   385.000000\n",
       "50%    368.500000   800.000000   539.000000\n",
       "75%    552.250000  1067.250000   720.000000\n",
       "max    736.000000  5760.000000  5688.000000"
      ]
     },
     "execution_count": 5,
     "metadata": {},
     "output_type": "execute_result"
    }
   ],
   "source": [
    "data.describe()"
   ]
  },
  {
   "cell_type": "code",
   "execution_count": 6,
   "metadata": {},
   "outputs": [
    {
     "name": "stdout",
     "output_type": "stream",
     "text": [
      "******************\n",
      "Variable:  CLASS\n",
      "Unique Values:  10\n",
      "******************\n",
      "booba           96\n",
      "cardi-b         92\n",
      "nicki-minaj     87\n",
      "rohff           87\n",
      "la-fouine       86\n",
      "donald-trump    85\n",
      "kaaris          78\n",
      "sinik           72\n",
      "beyonce         28\n",
      "amber-rose      25\n",
      "Name: CLASS, dtype: int64\n",
      "\n",
      "******************\n",
      "Variable:  MODE\n",
      "Unique Values:  4\n",
      "******************\n",
      "RGB     701\n",
      "RGBA     26\n",
      "P         7\n",
      "L         2\n",
      "Name: MODE, dtype: int64\n",
      "\n",
      "******************\n",
      "Variable:  EXTENSION\n",
      "Unique Values:  4\n",
      "******************\n",
      "jpg     638\n",
      "png      50\n",
      "jpeg     45\n",
      "JPG       3\n",
      "Name: EXTENSION, dtype: int64\n",
      "\n"
     ]
    }
   ],
   "source": [
    "for column in data.columns:\n",
    "    if data[column].dtype == \"object\" and column not in [\"FILENAME\", \"PATH\"]:\n",
    "        print(\"******************\")\n",
    "        print(\"Variable: \", column, end=\"\\n\")\n",
    "        print(\"Unique Values: \", data[column].nunique())\n",
    "        print(\"******************\")\n",
    "        table = data[column].value_counts()\n",
    "        print(table)\n",
    "        \n",
    "        print(\"\")"
   ]
  },
  {
   "cell_type": "markdown",
   "metadata": {},
   "source": [
    "# Analyse"
   ]
  },
  {
   "cell_type": "code",
   "execution_count": 7,
   "metadata": {},
   "outputs": [
    {
     "data": {
      "text/html": [
       "<div>\n",
       "<style scoped>\n",
       "    .dataframe tbody tr th:only-of-type {\n",
       "        vertical-align: middle;\n",
       "    }\n",
       "\n",
       "    .dataframe tbody tr th {\n",
       "        vertical-align: top;\n",
       "    }\n",
       "\n",
       "    .dataframe thead th {\n",
       "        text-align: right;\n",
       "    }\n",
       "</style>\n",
       "<table border=\"1\" class=\"dataframe\">\n",
       "  <thead>\n",
       "    <tr style=\"text-align: right;\">\n",
       "      <th>MODE</th>\n",
       "      <th>L</th>\n",
       "      <th>P</th>\n",
       "      <th>RGB</th>\n",
       "      <th>RGBA</th>\n",
       "    </tr>\n",
       "    <tr>\n",
       "      <th>EXTENSION</th>\n",
       "      <th></th>\n",
       "      <th></th>\n",
       "      <th></th>\n",
       "      <th></th>\n",
       "    </tr>\n",
       "  </thead>\n",
       "  <tbody>\n",
       "    <tr>\n",
       "      <th>JPG</th>\n",
       "      <td>0</td>\n",
       "      <td>0</td>\n",
       "      <td>3</td>\n",
       "      <td>0</td>\n",
       "    </tr>\n",
       "    <tr>\n",
       "      <th>jpeg</th>\n",
       "      <td>0</td>\n",
       "      <td>0</td>\n",
       "      <td>45</td>\n",
       "      <td>0</td>\n",
       "    </tr>\n",
       "    <tr>\n",
       "      <th>jpg</th>\n",
       "      <td>1</td>\n",
       "      <td>0</td>\n",
       "      <td>637</td>\n",
       "      <td>0</td>\n",
       "    </tr>\n",
       "    <tr>\n",
       "      <th>png</th>\n",
       "      <td>1</td>\n",
       "      <td>7</td>\n",
       "      <td>16</td>\n",
       "      <td>26</td>\n",
       "    </tr>\n",
       "  </tbody>\n",
       "</table>\n",
       "</div>"
      ],
      "text/plain": [
       "MODE       L  P  RGB  RGBA\n",
       "EXTENSION                 \n",
       "JPG        0  0    3     0\n",
       "jpeg       0  0   45     0\n",
       "jpg        1  0  637     0\n",
       "png        1  7   16    26"
      ]
     },
     "execution_count": 7,
     "metadata": {},
     "output_type": "execute_result"
    }
   ],
   "source": [
    "extensionVSmode = pd.crosstab(data[\"EXTENSION\"], data[\"MODE\"])\n",
    "extensionVSmode"
   ]
  },
  {
   "cell_type": "markdown",
   "metadata": {},
   "source": [
    "# Visualisation"
   ]
  },
  {
   "cell_type": "code",
   "execution_count": 8,
   "metadata": {},
   "outputs": [],
   "source": [
    "import matplotlib.pyplot as plt"
   ]
  },
  {
   "cell_type": "code",
   "execution_count": 9,
   "metadata": {},
   "outputs": [
    {
     "data": {
      "image/png": "[encoded data removed]",
      "text/plain": [
       "<Figure size 432x288 with 1 Axes>"
      ]
     },
     "metadata": {
      "needs_background": "light"
     },
     "output_type": "display_data"
    },
    {
     "name": "stdout",
     "output_type": "stream",
     "text": [
      "\n"
     ]
    },
    {
     "data": {
      "image/png": "[encoded data removed]",
      "text/plain": [
       "<Figure size 432x288 with 1 Axes>"
      ]
     },
     "metadata": {
      "needs_background": "light"
     },
     "output_type": "display_data"
    },
    {
     "name": "stdout",
     "output_type": "stream",
     "text": [
      "\n"
     ]
    },
    {
     "data": {
      "image/png": "[encoded data removed]",
      "text/plain": [
       "<Figure size 432x288 with 1 Axes>"
      ]
     },
     "metadata": {
      "needs_background": "light"
     },
     "output_type": "display_data"
    },
    {
     "name": "stdout",
     "output_type": "stream",
     "text": [
      "\n"
     ]
    }
   ],
   "source": [
    "for column in data.columns:\n",
    "    if data[column].dtype == \"object\" and column not in [\"FILENAME\", \"PATH\"]:\n",
    "        table = data[column].value_counts()\n",
    "        table.plot(kind=\"bar\")\n",
    "        plt.title(f\"Diagramme en barre de {column}\")\n",
    "        plt.show()\n",
    "        \n",
    "        \n",
    "        print(\"\")"
   ]
  },
  {
   "cell_type": "code",
   "execution_count": 10,
   "metadata": {},
   "outputs": [
    {
     "data": {
      "text/plain": [
       "<AxesSubplot:ylabel='Frequency'>"
      ]
     },
     "execution_count": 10,
     "metadata": {},
     "output_type": "execute_result"
    },
    {
     "data": {
      "image/png": "[encoded data removed]",
      "text/plain": [
       "<Figure size 432x288 with 1 Axes>"
      ]
     },
     "metadata": {
      "needs_background": "light"
     },
     "output_type": "display_data"
    }
   ],
   "source": [
    "data[\"WIDTH\"].plot(kind=\"hist\")"
   ]
  },
  {
   "cell_type": "code",
   "execution_count": 11,
   "metadata": {},
   "outputs": [
    {
     "data": {
      "text/plain": [
       "<AxesSubplot:ylabel='Frequency'>"
      ]
     },
     "execution_count": 11,
     "metadata": {},
     "output_type": "execute_result"
    },
    {
     "data": {
      "image/png": "[encoded data removed]",
      "text/plain": [
       "<Figure size 432x288 with 1 Axes>"
      ]
     },
     "metadata": {
      "needs_background": "light"
     },
     "output_type": "display_data"
    }
   ],
   "source": [
    "data[\"HEIGHT\"].plot(kind=\"hist\")"
   ]
  }
 ],
 "metadata": {
  "kernelspec": {
   "display_name": "Python 3",
   "language": "python",
   "name": "python3"
  },
  "language_info": {
   "codemirror_mode": {
    "name": "ipython",
    "version": 3
   },
   "file_extension": ".py",
   "mimetype": "text/x-python",
   "name": "python",
   "nbconvert_exporter": "python",
   "pygments_lexer": "ipython3",
   "version": "3.8.5"
  }
 },
 "nbformat": 4,
 "nbformat_minor": 4
}
